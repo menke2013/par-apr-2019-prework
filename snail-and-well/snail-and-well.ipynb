{
 "cells": [
  {
   "cell_type": "markdown",
   "metadata": {},
   "source": [
    "# Snail and well\n",
    "\n",
    "A snail falls at the bottom of a 125 cm well. Each day the snail rises 30 cm. But at night, while sleeping, slides 20 cm because the walls are wet. How many days does it take to escape from the well?\n",
    "\n",
    "TIP: http://puzzles.nigelcoldwell.co.uk/sixtytwo.htm"
   ]
  },
  {
   "cell_type": "markdown",
   "metadata": {},
   "source": [
    "## Solución"
   ]
  },
  {
   "cell_type": "code",
   "execution_count": 63,
   "metadata": {},
   "outputs": [
    {
     "name": "stdout",
     "output_type": "stream",
     "text": [
      "Days = 11\n"
     ]
    }
   ],
   "source": [
    "# Assign problem data to variables with representative names\n",
    "# well height, daily advance, night retreat, accumulated distance\n",
    "\n",
    "well_height = 125\n",
    "daily_advance = 30\n",
    "night_retreat = 20\n",
    "accumulated_distance = 0\n",
    "\n",
    "\n",
    "# Assign 0 to the variable that represents the solution\n",
    "\n",
    "days = 0\n",
    "\n",
    "# Write the code that solves the problem\n",
    "\n",
    "while accumulated_distance <= well_height:\n",
    "    accumulated_distance += daily_advance\n",
    "    days += 1\n",
    "    if accumulated_distance >= well_height:\n",
    "        break\n",
    "    else:\n",
    "        accumulated_distance -= night_retreat\n",
    "    \n",
    "\n",
    "# Print the result with print('Days =', days)\n",
    "print ('Days =', days)\n"
   ]
  },
  {
   "cell_type": "markdown",
   "metadata": {},
   "source": [
    "## Goals\n",
    "\n",
    "1. Treatment of variables\n",
    "2. Use of loop **while**\n",
    "3. Use of conditional **if-else**\n",
    "4. Print in console"
   ]
  },
  {
   "cell_type": "markdown",
   "metadata": {},
   "source": [
    "## Bonus\n",
    "The distance traveled by the snail is now defined by a list.\n",
    "```\n",
    "advance_cm = [30, 21, 33, 77, 44, 45, 23, 45, 12, 34, 55]\n",
    "```\n",
    "How long does it take to raise the well?\n",
    "\n",
    "What is its maximum displacement in one day? And its minimum?\n",
    "\n",
    "What is its average speed during the day?\n",
    "\n",
    "What is the standard deviation of its displacement during the day?"
   ]
  },
  {
   "cell_type": "code",
   "execution_count": 62,
   "metadata": {},
   "outputs": [
    {
     "name": "stdout",
     "output_type": "stream",
     "text": [
      "Days = 4\n",
      "Maximum displacement is 77 cm\n",
      "Minimum displacement is 12 cm\n",
      "Maximum displacement is 77 cm\n",
      "Minimum displacement is 21 cm\n",
      "Average progress is 38.09090909090909 cm\n",
      "Average progress is 40.25 cm\n",
      "41.777549429850914\n",
      "45.713783479383984\n"
     ]
    }
   ],
   "source": [
    "# Assign problem data to variables with representative names\n",
    "# well height, daily advance, night retreat, accumulated distance\n",
    "\n",
    "advance_cm = [30, 21, 33, 77, 44, 45, 23, 45, 12, 34, 55]\n",
    "well_height = 125\n",
    "accumulated_distance = 0\n",
    "days = 0\n",
    "displacement = []\n",
    "\n",
    "\n",
    "# Assign 0 to the variable that represents the solution\n",
    "\n",
    "\n",
    "\n",
    "# Write the code that solves the problem\n",
    "\n",
    "for x in advance_cm:\n",
    "    daily_advance = x\n",
    "    \n",
    "    if accumulated_distance <= well_height:\n",
    "        accumulated_distance += daily_advance\n",
    "        displacement.append(daily_advance)\n",
    "        days +=1\n",
    "    else:\n",
    "        break\n",
    "          \n",
    "    \n",
    "\n",
    "\n",
    "# Print the result with print('Days =', days)\n",
    "\n",
    "print('Days =', days)\n",
    "\n",
    "\n",
    "# What is its maximum displacement in a day? And its minimum?\n",
    "#whole advancelist\n",
    "x1 = max(advance_cm)\n",
    "y1 = min(advance_cm)\n",
    "print ('Maximum displacement is',x1, 'cm')\n",
    "print ('Minimum displacement is',y1 , 'cm')\n",
    "\n",
    "#only days in well\n",
    "\n",
    "x2 = max(displacement)\n",
    "y2 = min(displacement)\n",
    "print ('Maximum displacement is',x2, 'cm')\n",
    "print ('Minimum displacement is',y2 , 'cm')\n",
    "\n",
    "# What is its average progress?\n",
    "# full list\n",
    "v1 = sum(advance_cm)/len(advance_cm)\n",
    "\n",
    "print ('Average progress is',v1, 'cm')\n",
    "\n",
    "#only days in well\n",
    "\n",
    "v2 = sum(displacement)/len(displacement)\n",
    "\n",
    "print ('Average progress is',v2, 'cm')\n",
    "\n",
    "\n",
    "\n",
    "# What is the standard deviation of your displacement during the day?\n",
    "\n",
    "import math\n",
    "l1 =[]\n",
    "l2 =[]\n",
    "\n",
    "# whole list\n",
    "\n",
    "for x in advance_cm:\n",
    "    y = x**2\n",
    "    l1.append(y)\n",
    "    \n",
    "sd = math.sqrt(sum(l1)/len(l1))\n",
    "print (sd)\n",
    "\n",
    "# only days in well\n",
    "\n",
    "for x in displacement:\n",
    "    y = x**2\n",
    "    l2.append(y)\n",
    "    \n",
    "sd = math.sqrt(sum(l2)/len(l2))\n",
    "print (sd)\n"
   ]
  },
  {
   "cell_type": "code",
   "execution_count": null,
   "metadata": {},
   "outputs": [],
   "source": []
  },
  {
   "cell_type": "code",
   "execution_count": null,
   "metadata": {},
   "outputs": [],
   "source": []
  }
 ],
 "metadata": {
  "kernelspec": {
   "display_name": "Python 3",
   "language": "python",
   "name": "python3"
  },
  "language_info": {
   "codemirror_mode": {
    "name": "ipython",
    "version": 3
   },
   "file_extension": ".py",
   "mimetype": "text/x-python",
   "name": "python",
   "nbconvert_exporter": "python",
   "pygments_lexer": "ipython3",
   "version": "3.7.3"
  }
 },
 "nbformat": 4,
 "nbformat_minor": 2
}
