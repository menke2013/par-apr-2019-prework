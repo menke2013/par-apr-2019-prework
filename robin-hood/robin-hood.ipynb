{
 "cells": [
  {
   "cell_type": "markdown",
   "metadata": {},
   "source": [
    "# Robin Hood:\n",
    "We are in a competition to win the archery contest in Sherwood. With our bow and arrows we shoot on a target and try to hit as close as possible to the center.\n",
    "\n",
    "The center of the target is represented by the values (0, 0) on the coordinate axes.\n",
    "\n",
    "![](images/arrows.jpg)\n",
    "\n",
    "## Goals:\n",
    "* data structures: lists, sets, tuples\n",
    "* logical operators: if-elif-else\n",
    "* loop: while/for\n",
    "* minimum (optional sorting)\n",
    "\n",
    "## Description:\n",
    "In the 2-dimensional space, a point can be defined by a pair of values that correspond to the horizontal coordinate (x) and the vertical coordinate (y). The space can be divided into 4 zones (quadrants): Q1, Q2, Q3, Q4. Whose single point of union is the point (0, 0).\n",
    "\n",
    "If a point is in Q1 both its x coordinate and the y are positive. I leave a link to wikipedia to familiarize yourself with these quadrants.\n",
    "\n",
    "https://en.wikipedia.org/wiki/Cartesian_coordinate_system\n",
    "\n",
    "https://en.wikipedia.org/wiki/Euclidean_distance\n",
    "\n",
    "## Shots\n",
    "```\n",
    "points = [(4, 5), (-0, 2), (4, 7), (1, -3), (3, -2), (4, 5),\n",
    "          (3, 2), (5, 7), (-5, 7), (2, 2), (-4, 5), (0, -2),\n",
    "          (-4, 7), (-1, 3), (-3, 2), (-4, -5), (-3, 2),\n",
    "          (5, 7), (5, 7), (2, 2), (9, 9), (-8, -9)]\n",
    "```\n",
    "\n",
    "## Tasks\n",
    "1. Robin Hood is famous for hitting an arrow with another arrow. Did you get it?\n",
    "2. Calculate how many arrows have fallen in each quadrant.\n",
    "3. Find the point closest to the center. Calculate its distance to the center. \n",
    "4. If the target has a radius of 9, calculate the number of arrows that must be picked up in the forest."
   ]
  },
  {
   "cell_type": "code",
   "execution_count": 1,
   "metadata": {},
   "outputs": [],
   "source": [
    "# Variables\n",
    "\n",
    "points = [(4, 5), (-0, 2), (4, 7), (1, -3), (3, -2), (4, 5),\n",
    "          (3, 2), (5, 7), (-5, 7), (2, 2), (-4, 5), (0, -2),\n",
    "          (-4, 7), (-1, 3), (-3, 2), (-4, -5), (-3, 2),\n",
    "          (5, 7), (5, 7), (2, 2), (9, 9), (-8, -9)]"
   ]
  },
  {
   "cell_type": "code",
   "execution_count": 7,
   "metadata": {},
   "outputs": [
    {
     "name": "stdout",
     "output_type": "stream",
     "text": [
      "Position and amount of hitting an arrow: {(4, 5): 2, (5, 7): 3, (2, 2): 2, (-3, 2): 2}\n"
     ]
    }
   ],
   "source": [
    "# 1. Robin Hood is famous for hitting an arrow with another arrow. Did you get it?\n",
    "\n",
    "#seen = set()\n",
    "#seen_add = seen.add\n",
    "\n",
    "#hitting_arrow = set(x for x in points if x in seen or seen_add(x))\n",
    "\n",
    "#print (hitting_arrow)\n",
    "\n",
    "RHmultiple = {}\n",
    "\n",
    "for x in points:\n",
    "    arrow = points.count(x)\n",
    "    if arrow > 1:\n",
    "        RHmultiple[x] = arrow\n",
    "        \n",
    "print (\"Position and amount of hitting an arrow:\",RHmultiple)\n",
    "\n",
    "\n",
    "\n",
    "\n"
   ]
  },
  {
   "cell_type": "code",
   "execution_count": 9,
   "metadata": {},
   "outputs": [
    {
     "name": "stdout",
     "output_type": "stream",
     "text": [
      "Arrows in Q1: 10\n",
      "Arrows in Q2: 6\n",
      "Arrows in Q3: 2\n",
      "Arrows in Q4: 2\n"
     ]
    }
   ],
   "source": [
    "# 2. Calculate how many arrows have fallen in each quadrant.\n",
    "\n",
    "q1 = 0\n",
    "q2 = 0\n",
    "q3 = 0\n",
    "q4 = 0\n",
    "\n",
    "for x in points:\n",
    "    if x[0] > 0 and x[1] > 0:\n",
    "        q1 +=1\n",
    "    if x[0] < 0 and x[1] > 0:\n",
    "        q2 +=1\n",
    "    if x[0] < 0 and x[1] < 0:\n",
    "        q3 +=1\n",
    "    if x[0] > 0 and x[1] < 0:\n",
    "        q4 +=1\n",
    "        \n",
    "print (\"Arrows in Q1:\", q1)\n",
    "print (\"Arrows in Q2:\", q2)\n",
    "print (\"Arrows in Q3:\", q3)\n",
    "print (\"Arrows in Q4:\", q4)\n",
    "\n"
   ]
  },
  {
   "cell_type": "code",
   "execution_count": 42,
   "metadata": {},
   "outputs": [
    {
     "name": "stdout",
     "output_type": "stream",
     "text": [
      "Position of the closest arrow and distance to the center: {(0, 2): 2.0, (0, -2): 2.0}\n"
     ]
    }
   ],
   "source": [
    "# 3. Find the point closest to the center. Calculate its distance to the center\n",
    "# Defining a function that calculates the distance to the center can help.\n",
    "\n",
    "center = (0,0)\n",
    "Dis_Dic = {}\n",
    "Dis_list =[]\n",
    "Dis_Dic2 = {}\n",
    "#Distance is sqrt((x-c(x)**2)+(y-c(y)**2))\n",
    "\n",
    "def distance_calculation(x,y):\n",
    "    import math\n",
    "    distance = math.sqrt((x-center[0])**2 +(y-center[1])**2)\n",
    "    return distance\n",
    "\n",
    "for g in points:\n",
    "    distance2 = distance_calculation(g[0],g[1])\n",
    "    Dis_Dic[g] = distance2\n",
    "    Dis_list.append(distance2)\n",
    "    \n",
    "h = min(Dis_list)\n",
    "\n",
    "for j in points:\n",
    "    k = Dis_Dic[j]\n",
    "    if k <= h:\n",
    "        Dis_Dic2[j] = k\n",
    "\n",
    "print(\"Position of the closest arrow and distance to the center:\",Dis_Dic2)\n",
    "\n"
   ]
  },
  {
   "cell_type": "code",
   "execution_count": 46,
   "metadata": {},
   "outputs": [
    {
     "name": "stdout",
     "output_type": "stream",
     "text": [
      "Number of arrows in the forest: 2\n"
     ]
    }
   ],
   "source": [
    "# 4. If the target has a radius of 9, calculate the number of arrows that \n",
    "# must be picked up in the forest.\n",
    "\n",
    "forest_arrows = 0\n",
    "\n",
    "for l in points:\n",
    "    if Dis_Dic[l] > 9:\n",
    "        forest_arrows +=1\n",
    "    #if distance_calculation(l[0],l[1]) > 9: alternative with just calling the calculation function again\n",
    "    #    forest_arrows +=1\n",
    "                \n",
    "print (\"Number of arrows in the forest:\",forest_arrows)\n",
    "    "
   ]
  },
  {
   "cell_type": "code",
   "execution_count": null,
   "metadata": {},
   "outputs": [],
   "source": []
  }
 ],
 "metadata": {
  "kernelspec": {
   "display_name": "Python 3",
   "language": "python",
   "name": "python3"
  },
  "language_info": {
   "codemirror_mode": {
    "name": "ipython",
    "version": 3
   },
   "file_extension": ".py",
   "mimetype": "text/x-python",
   "name": "python",
   "nbconvert_exporter": "python",
   "pygments_lexer": "ipython3",
   "version": "3.7.3"
  }
 },
 "nbformat": 4,
 "nbformat_minor": 2
}
