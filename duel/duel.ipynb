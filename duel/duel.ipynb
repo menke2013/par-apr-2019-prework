{
 "cells": [
  {
   "cell_type": "markdown",
   "metadata": {},
   "source": [
    "# Duel of sorcerers\n",
    "You are witnessing an epic battle between two powerful sorcerers: Gandalf and Saruman. Each sorcerer has 10 spells of variable power in their mind and they are going to throw them one after the other. The winner of the duel will be the one who wins more of those clashes between spells. Spells are represented as a list of 10 integers whose value equals the power of the spell.\n",
    "```\n",
    "gandalf = [10, 11, 13, 30, 22, 11, 10, 33, 22, 22]\n",
    "saruman = [23, 66, 12, 43, 12, 10, 44, 23, 12, 17]\n",
    "```\n",
    "For example:\n",
    "1. The first clash is won by Saruman: 10 against 23, wins 23\n",
    "2. The second clash wins Saruman: 11 against 66, wins 66\n",
    "3. etc.\n",
    "\n",
    "\n",
    "You will create two variables, one for each sorcerer, where the sum of clashes won will be stored. Depending on which variable is greater at the end of the duel, you will show one of the following three results on the screen:\n",
    "* Gandalf wins\n",
    "* Saruman wins\n",
    "* Tie\n",
    "\n",
    "<img src=\"images/content_lightning_bolt_big.jpg\" width=\"400\">"
   ]
  },
  {
   "cell_type": "markdown",
   "metadata": {},
   "source": [
    "## Solution"
   ]
  },
  {
   "cell_type": "code",
   "execution_count": 2,
   "metadata": {},
   "outputs": [],
   "source": [
    "# Assign spell power lists to variables\n",
    "\n",
    "gandalf = [10, 11, 13, 30, 22, 11, 10, 33, 22, 22]\n",
    "saruman = [23, 66, 12, 43, 12, 10, 44, 23, 12, 17]\n",
    "\n"
   ]
  },
  {
   "cell_type": "code",
   "execution_count": 3,
   "metadata": {},
   "outputs": [],
   "source": [
    "# Assign 0 to each variable that stores the victories\n",
    "\n",
    "wins_gandalf = 0\n",
    "wins_saruman = 0\n"
   ]
  },
  {
   "cell_type": "code",
   "execution_count": 4,
   "metadata": {},
   "outputs": [],
   "source": [
    "# Execution of spell clashes\n",
    "\n",
    "y = len(gandalf)\n",
    "\n",
    "for x in range(y):\n",
    "    \n",
    "    if gandalf[x] > saruman[x]:\n",
    "        wins_gandalf +=1\n",
    "    elif gandalf[x] < saruman[x]:\n",
    "        wins_saruman +=1\n",
    "        \n",
    "    \n"
   ]
  },
  {
   "cell_type": "code",
   "execution_count": 7,
   "metadata": {},
   "outputs": [
    {
     "name": "stdout",
     "output_type": "stream",
     "text": [
      "Gandalf wins with 6 wins\n"
     ]
    }
   ],
   "source": [
    "# We check who has won, do not forget the possibility of a draw.\n",
    "# Print the result based on the winner.\n",
    "\n",
    "if wins_gandalf > wins_saruman:\n",
    "    print ('Gandalf wins with', wins_gandalf, 'wins')\n",
    "if wins_saruman > wins_gandalf:\n",
    "    print ('Saruman wins with', wins_saruman, 'wins')\n",
    "if wins_gandalf == wins_saruman: \n",
    "    print ('Nobody wins')\n",
    "\n"
   ]
  },
  {
   "cell_type": "markdown",
   "metadata": {},
   "source": [
    "## Goals\n",
    "\n",
    "1. Treatment of lists\n",
    "2. Use of **for loop**\n",
    "3. Use of conditional **if-elif-else**\n",
    "4. Use of the functions **range(), len()**\n",
    "5. Print"
   ]
  },
  {
   "cell_type": "markdown",
   "metadata": {},
   "source": [
    "## Bonus\n",
    "\n",
    "1. Spells now have a name and there is a dictionary that relates that name to a power.\n",
    "2. A sorcerer wins if he succeeds in winning 3 spell clashes in a row.\n",
    "3. Average of each of the spell lists.\n",
    "4. Standard deviation of each of the spell lists.\n",
    "\n",
    "```\n",
    "POWER = {\n",
    "    'Fireball': 50, \n",
    "    'Lightning bolt': 40, \n",
    "    'Magic arrow': 10, \n",
    "    'Black Tentacles': 25, \n",
    "    'Contagion': 45\n",
    "}\n",
    "\n",
    "gandalf = ['Fireball', 'Lightning bolt', 'Lightning bolt', 'Magic arrow', 'Fireball', \n",
    "           'Magic arrow', 'Lightning bolt', 'Fireball', 'Fireball', 'Fireball']\n",
    "saruman = ['Contagion', 'Contagion', 'Black Tentacles', 'Fireball', 'Black Tentacles', \n",
    "           'Lightning bolt', 'Magic arrow', 'Contagion', 'Magic arrow', 'Magic arrow']\n",
    "```\n",
    "\n",
    "Good luck!"
   ]
  },
  {
   "cell_type": "code",
   "execution_count": 13,
   "metadata": {},
   "outputs": [],
   "source": [
    "# 1. Spells now have a name and there is a dictionary that relates that name to a power.\n",
    "# variables\n",
    "\n",
    "POWER = {\n",
    "    'Fireball': 50, \n",
    "    'Lightning bolt': 40, \n",
    "    'Magic arrow': 10, \n",
    "    'Black Tentacles': 25, \n",
    "    'Contagion': 45\n",
    "}\n",
    "\n",
    "gandalf = ['Fireball', 'Lightning bolt', 'Lightning bolt', 'Magic arrow', 'Fireball', \n",
    "           'Magic arrow', 'Lightning bolt', 'Fireball', 'Magic arrow', 'Fireball']\n",
    "saruman = ['Contagion', 'Contagion', 'Black Tentacles', 'Fireball', 'Black Tentacles', \n",
    "           'Lightning bolt', 'Magic arrow', 'Contagion', 'Magic arrow', 'Magic arrow']"
   ]
  },
  {
   "cell_type": "code",
   "execution_count": 14,
   "metadata": {},
   "outputs": [],
   "source": [
    "# Assign spell power lists to variables\n",
    "\n",
    "\n"
   ]
  },
  {
   "cell_type": "code",
   "execution_count": 25,
   "metadata": {},
   "outputs": [
    {
     "name": "stdout",
     "output_type": "stream",
     "text": [
      "Nobody wins\n"
     ]
    }
   ],
   "source": [
    "# 2. A sorcerer wins if he succeeds in winning 3 spell clashes in a row.\n",
    "\n",
    "\n",
    "wins_in_a_row_gandalf = 0\n",
    "wins_in_a_row_saruman = 0\n",
    "\n",
    "# Execution of spell clashes\n",
    "\n",
    "y = len(gandalf)\n",
    "\n",
    "for x in range(y):\n",
    "    \n",
    "    if POWER[gandalf[x]] > POWER[saruman[x]]:\n",
    "        wins_in_a_row_gandalf +=1\n",
    "        wins_in_a_row_saruman = 0\n",
    "    elif POWER[saruman[x]] > POWER[gandalf[x]]:\n",
    "        wins_in_a_row_saruman +=1\n",
    "        wins_in_a_row_gandalf = 0\n",
    "    else:\n",
    "        wins_in_a_row_gandalf = 0\n",
    "        wins_in_a_row_saruman = 0     \n",
    "        \n",
    "# check for 3 wins in a row    \n",
    "\n",
    "    if wins_in_a_row_gandalf == 3:\n",
    "        break\n",
    "    elif wins_in_a_row_saruman == 3:\n",
    "        break\n",
    "\n",
    "\n",
    "# check the winner\n",
    "\n",
    "if wins_in_a_row_gandalf == 3:\n",
    "    print ('Gandalf wins')\n",
    "elif wins_in_a_row_saruman ==3:\n",
    "    print ('Saruman wins')\n",
    "else:\n",
    "    print ('Nobody wins')"
   ]
  },
  {
   "cell_type": "code",
   "execution_count": 34,
   "metadata": {},
   "outputs": [
    {
     "name": "stdout",
     "output_type": "stream",
     "text": [
      "Average of Gandalf's spell list: 35.0\n",
      "Average of Saruman's spell list: 30.5\n"
     ]
    }
   ],
   "source": [
    "# 3. Average of each of the spell lists.\n",
    "\n",
    "z_g = []\n",
    "\n",
    "for x_g in gandalf:\n",
    "    y_g = POWER[x_g]\n",
    "    z_g.append(y_g)\n",
    "    \n",
    "average_g = sum(z_g) / len(gandalf)\n",
    "\n",
    "print (\"Average of Gandalf's spell list:\", average_g )\n",
    "\n",
    "z_s = []\n",
    "\n",
    "for x_s in saruman:\n",
    "    y_s = POWER[x_s]\n",
    "    z_s.append(y_s)\n",
    "\n",
    "average_s = sum(z_s) / len(saruman)\n",
    "\n",
    "print (\"Average of Saruman's spell list:\", average_s )\n",
    "\n"
   ]
  },
  {
   "cell_type": "code",
   "execution_count": 37,
   "metadata": {},
   "outputs": [
    {
     "name": "stdout",
     "output_type": "stream",
     "text": [
      "Standard deviation for Gandalf: 38.8587184554509\n",
      "Standard deviation for Saruman: 34.241787336527864\n"
     ]
    }
   ],
   "source": [
    "# 4. Standard deviation of each of the spell lists.\n",
    "\n",
    "import math\n",
    "u_g = []\n",
    "u_s =[]\n",
    "\n",
    "for v in z_g:\n",
    "    u = v**2\n",
    "    u_g.append(u)\n",
    "\n",
    "sd_g = math.sqrt(sum(u_g)/len(u_g))\n",
    "print (\"Standard deviation for Gandalf:\", sd_g)\n",
    "\n",
    "for h in z_s:\n",
    "    j = h**2\n",
    "    u_s.append(j)\n",
    "\n",
    "sd_s = math.sqrt(sum(u_s)/len(u_s))\n",
    "print (\"Standard deviation for Saruman:\", sd_s)\n",
    "\n",
    "    \n"
   ]
  },
  {
   "cell_type": "code",
   "execution_count": null,
   "metadata": {},
   "outputs": [],
   "source": []
  }
 ],
 "metadata": {
  "kernelspec": {
   "display_name": "Python 3",
   "language": "python",
   "name": "python3"
  },
  "language_info": {
   "codemirror_mode": {
    "name": "ipython",
    "version": 3
   },
   "file_extension": ".py",
   "mimetype": "text/x-python",
   "name": "python",
   "nbconvert_exporter": "python",
   "pygments_lexer": "ipython3",
   "version": "3.7.3"
  }
 },
 "nbformat": 4,
 "nbformat_minor": 2
}
